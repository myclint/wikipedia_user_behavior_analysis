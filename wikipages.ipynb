{
 "cells": [
  {
   "cell_type": "code",
   "execution_count": 2,
   "metadata": {},
   "outputs": [],
   "source": [
    "import pandas as pd\n",
    "import sqlite3"
   ]
  },
  {
   "cell_type": "code",
   "execution_count": 3,
   "metadata": {},
   "outputs": [],
   "source": [
    "pages = pd.read_excel(\n",
    "    \"C:\\\\Users\\\\Clinton Ukachukwu\\\\Desktop\\\\DA Projects\\\\Wikipedia\\\\wikipedia_dataset_flat.xlsx\",\n",
    "    sheet_name=\"Sheet1\",\n",
    "    header=0\n",
    ")"
   ]
  },
  {
   "cell_type": "code",
   "execution_count": 4,
   "metadata": {},
   "outputs": [
    {
     "name": "stdout",
     "output_type": "stream",
     "text": [
      "<class 'pandas.core.frame.DataFrame'>\n",
      "RangeIndex: 549000 entries, 0 to 548999\n",
      "Data columns (total 4 columns):\n",
      " #   Column      Non-Null Count   Dtype         \n",
      "---  ------      --------------   -----         \n",
      " 0   Unnamed: 0  549000 non-null  int64         \n",
      " 1   date        549000 non-null  datetime64[ns]\n",
      " 2   page        549000 non-null  object        \n",
      " 3   visits      548913 non-null  float64       \n",
      "dtypes: datetime64[ns](1), float64(1), int64(1), object(1)\n",
      "memory usage: 16.8+ MB\n"
     ]
    }
   ],
   "source": [
    "pages.info()"
   ]
  },
  {
   "cell_type": "code",
   "execution_count": 3,
   "metadata": {},
   "outputs": [
    {
     "data": {
      "text/html": [
       "<div>\n",
       "<style scoped>\n",
       "    .dataframe tbody tr th:only-of-type {\n",
       "        vertical-align: middle;\n",
       "    }\n",
       "\n",
       "    .dataframe tbody tr th {\n",
       "        vertical-align: top;\n",
       "    }\n",
       "\n",
       "    .dataframe thead th {\n",
       "        text-align: right;\n",
       "    }\n",
       "</style>\n",
       "<table border=\"1\" class=\"dataframe\">\n",
       "  <thead>\n",
       "    <tr style=\"text-align: right;\">\n",
       "      <th></th>\n",
       "      <th>Unnamed: 0</th>\n",
       "      <th>date</th>\n",
       "      <th>page</th>\n",
       "      <th>visits</th>\n",
       "    </tr>\n",
       "  </thead>\n",
       "  <tbody>\n",
       "    <tr>\n",
       "      <th>0</th>\n",
       "      <td>0</td>\n",
       "      <td>2016-01-01</td>\n",
       "      <td>.xxx_en.wikipedia.org_all-access_all-agents</td>\n",
       "      <td>7089.0</td>\n",
       "    </tr>\n",
       "    <tr>\n",
       "      <th>1</th>\n",
       "      <td>1</td>\n",
       "      <td>2016-01-01</td>\n",
       "      <td>.xxx_en.wikipedia.org_mobile-web_all-agents</td>\n",
       "      <td>6182.0</td>\n",
       "    </tr>\n",
       "    <tr>\n",
       "      <th>2</th>\n",
       "      <td>2</td>\n",
       "      <td>2016-01-01</td>\n",
       "      <td>1._Juli_de.wikipedia.org_desktop_all-agents</td>\n",
       "      <td>20.0</td>\n",
       "    </tr>\n",
       "    <tr>\n",
       "      <th>3</th>\n",
       "      <td>3</td>\n",
       "      <td>2016-01-01</td>\n",
       "      <td>2014_FIFA_World_Cup_en.wikipedia.org_all-acces...</td>\n",
       "      <td>5363.0</td>\n",
       "    </tr>\n",
       "    <tr>\n",
       "      <th>4</th>\n",
       "      <td>4</td>\n",
       "      <td>2016-01-01</td>\n",
       "      <td>2014_FIFA_World_Cup_en.wikipedia.org_desktop_a...</td>\n",
       "      <td>3186.0</td>\n",
       "    </tr>\n",
       "  </tbody>\n",
       "</table>\n",
       "</div>"
      ],
      "text/plain": [
       "   Unnamed: 0       date                                               page  \\\n",
       "0           0 2016-01-01        .xxx_en.wikipedia.org_all-access_all-agents   \n",
       "1           1 2016-01-01        .xxx_en.wikipedia.org_mobile-web_all-agents   \n",
       "2           2 2016-01-01        1._Juli_de.wikipedia.org_desktop_all-agents   \n",
       "3           3 2016-01-01  2014_FIFA_World_Cup_en.wikipedia.org_all-acces...   \n",
       "4           4 2016-01-01  2014_FIFA_World_Cup_en.wikipedia.org_desktop_a...   \n",
       "\n",
       "   visits  \n",
       "0  7089.0  \n",
       "1  6182.0  \n",
       "2    20.0  \n",
       "3  5363.0  \n",
       "4  3186.0  "
      ]
     },
     "execution_count": 3,
     "metadata": {},
     "output_type": "execute_result"
    }
   ],
   "source": [
    "pages.head()"
   ]
  },
  {
   "cell_type": "code",
   "execution_count": 4,
   "metadata": {},
   "outputs": [
    {
     "name": "stdout",
     "output_type": "stream",
     "text": [
      "<class 'pandas.core.frame.DataFrame'>\n",
      "RangeIndex: 549000 entries, 0 to 548999\n",
      "Data columns (total 4 columns):\n",
      " #   Column      Non-Null Count   Dtype         \n",
      "---  ------      --------------   -----         \n",
      " 0   Unnamed: 0  549000 non-null  int64         \n",
      " 1   date        549000 non-null  datetime64[ns]\n",
      " 2   page        549000 non-null  object        \n",
      " 3   visits      548913 non-null  float64       \n",
      "dtypes: datetime64[ns](1), float64(1), int64(1), object(1)\n",
      "memory usage: 16.8+ MB\n"
     ]
    }
   ],
   "source": [
    "pages.info()"
   ]
  },
  {
   "cell_type": "code",
   "execution_count": 5,
   "metadata": {},
   "outputs": [],
   "source": [
    "pages=pages.dropna()"
   ]
  },
  {
   "cell_type": "code",
   "execution_count": 6,
   "metadata": {},
   "outputs": [],
   "source": [
    "pages=pages.drop_duplicates()"
   ]
  },
  {
   "cell_type": "code",
   "execution_count": 7,
   "metadata": {},
   "outputs": [
    {
     "name": "stdout",
     "output_type": "stream",
     "text": [
      "<class 'pandas.core.frame.DataFrame'>\n",
      "Int64Index: 548913 entries, 0 to 548999\n",
      "Data columns (total 4 columns):\n",
      " #   Column      Non-Null Count   Dtype         \n",
      "---  ------      --------------   -----         \n",
      " 0   Unnamed: 0  548913 non-null  int64         \n",
      " 1   date        548913 non-null  datetime64[ns]\n",
      " 2   page        548913 non-null  object        \n",
      " 3   visits      548913 non-null  float64       \n",
      "dtypes: datetime64[ns](1), float64(1), int64(1), object(1)\n",
      "memory usage: 20.9+ MB\n"
     ]
    }
   ],
   "source": [
    "pages.info()"
   ]
  },
  {
   "cell_type": "markdown",
   "metadata": {},
   "source": [
    "Creating a SQLite Database"
   ]
  },
  {
   "cell_type": "code",
   "execution_count": 8,
   "metadata": {},
   "outputs": [],
   "source": [
    "db_conn = sqlite3.connect(\"C:\\\\Users\\\\Clinton Ukachukwu\\\\Desktop\\\\DA Projects\\\\Wikipedia\\\\wikipedia_dataset_flat.db\")"
   ]
  },
  {
   "cell_type": "code",
   "execution_count": 9,
   "metadata": {},
   "outputs": [],
   "source": [
    "c = db_conn.cursor()"
   ]
  },
  {
   "cell_type": "code",
   "execution_count": 10,
   "metadata": {},
   "outputs": [
    {
     "data": {
      "text/plain": [
       "<sqlite3.Cursor at 0x262e4620dc0>"
      ]
     },
     "execution_count": 10,
     "metadata": {},
     "output_type": "execute_result"
    }
   ],
   "source": [
    "# PAGES\n",
    "c.execute(\n",
    "    \"\"\"\n",
    "    CREATE TABLE pages (\n",
    "        date TEXT,\n",
    "        page TEXT,\n",
    "        visits INTEGER\n",
    "        \n",
    "        );\n",
    "     \"\"\"\n",
    ")"
   ]
  },
  {
   "cell_type": "code",
   "execution_count": 11,
   "metadata": {},
   "outputs": [
    {
     "data": {
      "text/plain": [
       "548913"
      ]
     },
     "execution_count": 11,
     "metadata": {},
     "output_type": "execute_result"
    }
   ],
   "source": [
    "pages = pages.drop(columns=['Unnamed: 0'])\n",
    "pages.to_sql('pages', db_conn, if_exists='append', index=False)"
   ]
  },
  {
   "cell_type": "markdown",
   "metadata": {},
   "source": [
    "Proportion of languages represented in Wikipedia dataset"
   ]
  },
  {
   "cell_type": "code",
   "execution_count": 14,
   "metadata": {},
   "outputs": [],
   "source": [
    "### Extract language code from page names\n",
    "pages['language'] = pages['page'].str.extract(r'_(\\w+).wikipedia.org')"
   ]
  },
  {
   "cell_type": "code",
   "execution_count": 15,
   "metadata": {},
   "outputs": [
    {
     "name": "stdout",
     "output_type": "stream",
     "text": [
      "Number of languages: 533\n"
     ]
    }
   ],
   "source": [
    "### Count languages represented in the page column\n",
    "num_languages = pages['language'].nunique()\n",
    "print(f\"Number of languages: {num_languages}\")"
   ]
  },
  {
   "cell_type": "code",
   "execution_count": 26,
   "metadata": {},
   "outputs": [],
   "source": [
    "pages['corrected_language'] = pages['language'].str.extract(r'\\b([a-z]{2})\\b')\n"
   ]
  },
  {
   "cell_type": "code",
   "execution_count": 27,
   "metadata": {},
   "outputs": [
    {
     "name": "stdout",
     "output_type": "stream",
     "text": [
      "en    22.654592\n",
      "ja     7.867731\n",
      "es     2.467058\n",
      "ru     2.333703\n",
      "de     2.066994\n",
      "zh     1.866963\n",
      "fr     1.333545\n",
      "Name: corrected_language, dtype: float64\n"
     ]
    }
   ],
   "source": [
    "### Calculate proportion of pages for each language\n",
    "language_counts = pages['corrected_language'].value_counts()\n",
    "language_proportions = language_counts / len(pages)\n",
    "print(language_proportions * 100)  # This will display the proportions as percentages"
   ]
  },
  {
   "cell_type": "code",
   "execution_count": 28,
   "metadata": {},
   "outputs": [
    {
     "name": "stderr",
     "output_type": "stream",
     "text": [
      "C:\\Users\\Clinton Ukachukwu\\AppData\\Local\\Temp\\ipykernel_13016\\148216540.py:2: UserWarning: Pandas doesn't allow columns to be created via a new attribute name - see https://pandas.pydata.org/pandas-docs/stable/indexing.html#attribute-access\n",
      "  language_proportions_pages.page = ['Language', 'Proportion']\n"
     ]
    }
   ],
   "source": [
    "language_proportions_pages = language_proportions.reset_index()\n",
    "language_proportions_pages.page = ['Language', 'Proportion']\n",
    "language_proportions_pages.to_csv('wikipedia_language_proportions.csv', index=False)\n"
   ]
  },
  {
   "cell_type": "markdown",
   "metadata": {},
   "source": [
    "Device type more frequently used for visiting Wikipedia"
   ]
  },
  {
   "cell_type": "code",
   "execution_count": 20,
   "metadata": {},
   "outputs": [],
   "source": [
    "### Extract device type from page column\n",
    "pages['device_type'] = pages['page'].str.extract(r'_(desktop|mobile)')"
   ]
  },
  {
   "cell_type": "code",
   "execution_count": 24,
   "metadata": {},
   "outputs": [
    {
     "name": "stdout",
     "output_type": "stream",
     "text": [
      "mobile     107604\n",
      "desktop     99100\n",
      "Name: device_type, dtype: int64\n"
     ]
    }
   ],
   "source": [
    "### Verify the extraction\n",
    "print(pages['device_type'].value_counts())"
   ]
  },
  {
   "cell_type": "code",
   "execution_count": 21,
   "metadata": {},
   "outputs": [],
   "source": [
    "### Aggregate the data\n",
    "device_counts = pages['device_type'].value_counts()"
   ]
  },
  {
   "cell_type": "code",
   "execution_count": 25,
   "metadata": {},
   "outputs": [
    {
     "name": "stdout",
     "output_type": "stream",
     "text": [
      "mobile     107604\n",
      "desktop     99100\n",
      "Name: device_type, dtype: int64\n"
     ]
    }
   ],
   "source": [
    "print(device_counts)"
   ]
  },
  {
   "cell_type": "code",
   "execution_count": 22,
   "metadata": {},
   "outputs": [],
   "source": [
    "### Export to CSV\n",
    "device_counts.to_csv('wikipedia_device_usage.csv')"
   ]
  },
  {
   "cell_type": "code",
   "execution_count": 23,
   "metadata": {},
   "outputs": [
    {
     "name": "stdout",
     "output_type": "stream",
     "text": [
      ",device_type\n",
      "\n",
      "mobile,107604\n",
      "\n"
     ]
    }
   ],
   "source": [
    "### Verify the export\n",
    "with open('wikipedia_device_usage.csv', 'r') as file:\n",
    "    print(file.readline())\n",
    "    print(file.readline())"
   ]
  }
 ],
 "metadata": {
  "kernelspec": {
   "display_name": "Python 3",
   "language": "python",
   "name": "python3"
  },
  "language_info": {
   "codemirror_mode": {
    "name": "ipython",
    "version": 3
   },
   "file_extension": ".py",
   "mimetype": "text/x-python",
   "name": "python",
   "nbconvert_exporter": "python",
   "pygments_lexer": "ipython3",
   "version": "3.11.4"
  }
 },
 "nbformat": 4,
 "nbformat_minor": 2
}
